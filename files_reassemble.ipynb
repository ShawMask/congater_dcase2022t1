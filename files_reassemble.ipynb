{
 "cells": [
  {
   "cell_type": "markdown",
   "metadata": {
    "collapsed": true
   },
   "source": [
    "## Reaasemble Files"
   ]
  },
  {
   "cell_type": "code",
   "execution_count": 12,
   "metadata": {},
   "outputs": [
    {
     "data": {
      "text/html": [
       "<div>\n",
       "<style scoped>\n",
       "    .dataframe tbody tr th:only-of-type {\n",
       "        vertical-align: middle;\n",
       "    }\n",
       "\n",
       "    .dataframe tbody tr th {\n",
       "        vertical-align: top;\n",
       "    }\n",
       "\n",
       "    .dataframe thead th {\n",
       "        text-align: right;\n",
       "    }\n",
       "</style>\n",
       "<table border=\"1\" class=\"dataframe\">\n",
       "  <thead>\n",
       "    <tr style=\"text-align: right;\">\n",
       "      <th></th>\n",
       "      <th>filename</th>\n",
       "      <th>scene_label</th>\n",
       "      <th>identifier</th>\n",
       "      <th>source_label</th>\n",
       "    </tr>\n",
       "  </thead>\n",
       "  <tbody>\n",
       "    <tr>\n",
       "      <th>0</th>\n",
       "      <td>audio/airport-lisbon-1000-40000-0-a.wav</td>\n",
       "      <td>airport</td>\n",
       "      <td>lisbon-1000</td>\n",
       "      <td>a</td>\n",
       "    </tr>\n",
       "    <tr>\n",
       "      <th>1</th>\n",
       "      <td>audio/airport-lisbon-1000-40000-1-a.wav</td>\n",
       "      <td>airport</td>\n",
       "      <td>lisbon-1000</td>\n",
       "      <td>a</td>\n",
       "    </tr>\n",
       "    <tr>\n",
       "      <th>2</th>\n",
       "      <td>audio/airport-lisbon-1000-40000-2-a.wav</td>\n",
       "      <td>airport</td>\n",
       "      <td>lisbon-1000</td>\n",
       "      <td>a</td>\n",
       "    </tr>\n",
       "    <tr>\n",
       "      <th>3</th>\n",
       "      <td>audio/airport-lisbon-1000-40000-3-a.wav</td>\n",
       "      <td>airport</td>\n",
       "      <td>lisbon-1000</td>\n",
       "      <td>a</td>\n",
       "    </tr>\n",
       "    <tr>\n",
       "      <th>4</th>\n",
       "      <td>audio/airport-lisbon-1000-40000-4-a.wav</td>\n",
       "      <td>airport</td>\n",
       "      <td>lisbon-1000</td>\n",
       "      <td>a</td>\n",
       "    </tr>\n",
       "  </tbody>\n",
       "</table>\n",
       "</div>"
      ],
      "text/plain": [
       "                                  filename scene_label   identifier  \\\n",
       "0  audio/airport-lisbon-1000-40000-0-a.wav     airport  lisbon-1000   \n",
       "1  audio/airport-lisbon-1000-40000-1-a.wav     airport  lisbon-1000   \n",
       "2  audio/airport-lisbon-1000-40000-2-a.wav     airport  lisbon-1000   \n",
       "3  audio/airport-lisbon-1000-40000-3-a.wav     airport  lisbon-1000   \n",
       "4  audio/airport-lisbon-1000-40000-4-a.wav     airport  lisbon-1000   \n",
       "\n",
       "  source_label  \n",
       "0            a  \n",
       "1            a  \n",
       "2            a  \n",
       "3            a  \n",
       "4            a  "
      ]
     },
     "execution_count": 12,
     "metadata": {},
     "output_type": "execute_result"
    }
   ],
   "source": [
    "import os\n",
    "import pandas as pd\n",
    "import librosa\n",
    "import numpy as np\n",
    "import soundfile as sf\n",
    "\n",
    "load_path = \"/share/rk6/shared/dcase22/TAU-urban-acoustic-scenes-2022-mobile-development/\"\n",
    "save_path = \"/share/rk6/shared/dcase22_reassembled_test/TAU-urban-acoustic-scenes-2022-mobile-development/\"\n",
    "os.makedirs(save_path + \"audio/\", exist_ok=True)\n",
    "meta_csv = \"/share/rk6/shared/dcase22/TAU-urban-acoustic-scenes-2022-mobile-development/meta.csv\"\n",
    "meta = pd.read_csv(meta_csv, sep=\"\\t\")\n",
    "meta.head()"
   ]
  },
  {
   "cell_type": "code",
   "execution_count": 13,
   "metadata": {},
   "outputs": [],
   "source": [
    "new_files={}\n",
    "for i, row in meta.iterrows():\n",
    "    arr = row.filename.rsplit(\"-\", 2)\n",
    "    new_files.setdefault(arr[0]+\"-\"+arr[2],[]).append(row.filename)"
   ]
  },
  {
   "cell_type": "code",
   "execution_count": 15,
   "metadata": {},
   "outputs": [],
   "source": [
    "for k,arr in new_file.items():\n",
    "    reassembled=np.concatenate([librosa.load(load_path+f,sr=None)[0] for f in arr], axis=0)\n",
    "    sf.write(save_path+k, reassembled, 44100, 'PCM_24')\n",
    "    if len(reassembled) != 441000:\n",
    "        print(k)"
   ]
  },
  {
   "cell_type": "markdown",
   "metadata": {},
   "source": [
    "# Next:\n",
    "adapt and copy also meta.csv and evaluation_setup folder to created reassembled dataset..."
   ]
  }
 ],
 "metadata": {
  "kernelspec": {
   "display_name": "Python 3 (ipykernel)",
   "language": "python",
   "name": "python3"
  },
  "language_info": {
   "codemirror_mode": {
    "name": "ipython",
    "version": 3
   },
   "file_extension": ".py",
   "mimetype": "text/x-python",
   "name": "python",
   "nbconvert_exporter": "python",
   "pygments_lexer": "ipython3",
   "version": "3.7.10"
  }
 },
 "nbformat": 4,
 "nbformat_minor": 1
}
